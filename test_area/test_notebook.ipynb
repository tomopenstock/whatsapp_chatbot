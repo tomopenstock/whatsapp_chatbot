{
 "cells": [
  {
   "cell_type": "code",
   "execution_count": 1,
   "id": "0a7b463c-05dc-40c1-a61f-4ee370113370",
   "metadata": {},
   "outputs": [],
   "source": [
    "import numpy as np\n",
    "import openai\n",
    "import pandas as pd\n",
    "import json\n",
    "from google.cloud import secretmanager\n",
    "from google.cloud import storage\n",
    "import faiss\n",
    "from string import Template"
   ]
  },
  {
   "cell_type": "code",
   "execution_count": 2,
   "id": "e51a9111-295f-4e66-8488-19092c5d36b2",
   "metadata": {},
   "outputs": [],
   "source": [
    "def access_secret(secret_id):\n",
    "    client = secretmanager.SecretManagerServiceClient()\n",
    "    name = f\"projects/1052202528756/secrets/{secret_id}/versions/latest\"\n",
    "    response = client.access_secret_version(request={\"name\": name})\n",
    "    return response.payload.data.decode(\"UTF-8\")"
   ]
  },
  {
   "cell_type": "code",
   "execution_count": 3,
   "id": "5a86cab8-315c-43ae-ac20-82b68112e0f2",
   "metadata": {},
   "outputs": [],
   "source": [
    "openai_client = openai.OpenAI(api_key = access_secret(\"OPENAI_API_KEY\"))"
   ]
  },
  {
   "cell_type": "code",
   "execution_count": 13,
   "id": "3e4166bd-d35e-4ada-8d00-aa67dbf98236",
   "metadata": {},
   "outputs": [],
   "source": [
    "# Create dataframe of information\n",
    "with open(\"/Users/openstockltd/Documents/Chatbot/V2/preprocessing/olivia_information_vectors.json\") as f:\n",
    "    data = json.load(f)\n",
    "\n",
    "models = data[\"models\"]\n",
    "\n",
    "embedding_model = models[\"embedding_model\"]\n",
    "chat_model = models[\"assistant_model\"]"
   ]
  },
  {
   "cell_type": "code",
   "execution_count": 15,
   "id": "e949a411-50ac-44d5-a43d-459c8fac5881",
   "metadata": {},
   "outputs": [
    {
     "ename": "KeyError",
     "evalue": "'data'",
     "output_type": "error",
     "traceback": [
      "\u001b[0;31m---------------------------------------------------------------------------\u001b[0m",
      "\u001b[0;31mKeyError\u001b[0m                                  Traceback (most recent call last)",
      "Cell \u001b[0;32mIn[15], line 1\u001b[0m\n\u001b[0;32m----> 1\u001b[0m vector_db \u001b[38;5;241m=\u001b[39m pd\u001b[38;5;241m.\u001b[39mDataFrame(data[\u001b[38;5;124m'\u001b[39m\u001b[38;5;124mdata\u001b[39m\u001b[38;5;124m'\u001b[39m])\n\u001b[1;32m      3\u001b[0m vector_db\n\u001b[1;32m      5\u001b[0m \u001b[38;5;28mprint\u001b[39m(\u001b[38;5;28mlen\u001b[39m(vector_db\u001b[38;5;241m.\u001b[39miloc[\u001b[38;5;241m0\u001b[39m][\u001b[38;5;124m'\u001b[39m\u001b[38;5;124mvector_embedding\u001b[39m\u001b[38;5;124m'\u001b[39m]))\n",
      "\u001b[0;31mKeyError\u001b[0m: 'data'"
     ]
    }
   ],
   "source": [
    "vector_db = pd.DataFrame(data['data'])\n",
    "\n",
    "vector_db\n",
    "\n",
    "print(len(vector_db.iloc[0]['vector_embedding']))"
   ]
  },
  {
   "cell_type": "markdown",
   "id": "0e2a6492-e6a8-46ca-ac3c-8bb3fa1c9b2f",
   "metadata": {},
   "source": [
    "## Embedding and FAISS Vector Search Handling"
   ]
  },
  {
   "cell_type": "code",
   "execution_count": 19,
   "id": "5014b506-71e6-4980-82f2-e3f614d06677",
   "metadata": {},
   "outputs": [
    {
     "ename": "NameError",
     "evalue": "name 'vector_db' is not defined",
     "output_type": "error",
     "traceback": [
      "\u001b[0;31m---------------------------------------------------------------------------\u001b[0m",
      "\u001b[0;31mNameError\u001b[0m                                 Traceback (most recent call last)",
      "Cell \u001b[0;32mIn[19], line 2\u001b[0m\n\u001b[1;32m      1\u001b[0m \u001b[38;5;66;03m# Create matrix of information vectors\u001b[39;00m\n\u001b[0;32m----> 2\u001b[0m embedding_matrix \u001b[38;5;241m=\u001b[39m np\u001b[38;5;241m.\u001b[39mvstack(vector_db[\u001b[38;5;124m'\u001b[39m\u001b[38;5;124mvector_embedding\u001b[39m\u001b[38;5;124m'\u001b[39m]\u001b[38;5;241m.\u001b[39mvalues)\u001b[38;5;241m.\u001b[39mastype(\u001b[38;5;124m'\u001b[39m\u001b[38;5;124mfloat32\u001b[39m\u001b[38;5;124m'\u001b[39m)\n\u001b[1;32m      4\u001b[0m \u001b[38;5;66;03m# Generate FAISS index\u001b[39;00m\n\u001b[1;32m      5\u001b[0m dim \u001b[38;5;241m=\u001b[39m embedding_matrix\u001b[38;5;241m.\u001b[39mshape[\u001b[38;5;241m1\u001b[39m]\n",
      "\u001b[0;31mNameError\u001b[0m: name 'vector_db' is not defined"
     ]
    }
   ],
   "source": [
    "# Create matrix of information vectors\n",
    "embedding_matrix = np.vstack(vector_db['vector_embedding'].values).astype('float32')\n",
    "\n",
    "# Generate FAISS index\n",
    "dim = embedding_matrix.shape[1]\n",
    "index = faiss.IndexFlatIP(dim)\n",
    "index.add(embedding_matrix)"
   ]
  },
  {
   "cell_type": "code",
   "execution_count": 21,
   "id": "9bec5ee1-7c4d-4209-9f2a-9cb6a117c3d4",
   "metadata": {},
   "outputs": [],
   "source": [
    "def get_embedded_vector(text):\n",
    "    '''\n",
    "    Returns an array of the text embedded in vector space by chosen OpenAI model\n",
    "    '''\n",
    "    try:\n",
    "        vector = openai_client.embeddings.create(input=text, model=embedding_model).data[0].embedding\n",
    "        return np.array([vector], dtype=np.float32)\n",
    "    except Exception as e:\n",
    "        print(f\"Embedding generation failed: {e}\")\n",
    "        raise\n",
    "\n",
    "def knn_search(embedding, index, k, p_cosine_min):\n",
    "    \"\"\"\n",
    "    Inputs:\n",
    "    embedding: numpy array of embedded text\n",
    "    index: FAISS index\n",
    "    p_cosine_min: minimum threshold for 'near' neighbours\n",
    "    K: number of nearest neighbours to find\n",
    "\n",
    "    Returns:\n",
    "    indices: an array of indices of near enough neighbours (in descending order by cosine similarity)\n",
    "    \"\"\"\n",
    "\n",
    "    cosines, indices = index.search(embedding, k)\n",
    "\n",
    "    return [idx for idx, sim in zip(indices[0], cosines[0]) if sim >= p_cosine_min]"
   ]
  },
  {
   "cell_type": "markdown",
   "id": "ca73c27f-2e91-4362-86dd-f8f955e1d614",
   "metadata": {},
   "source": [
    "## Single Input"
   ]
  },
  {
   "cell_type": "code",
   "execution_count": null,
   "id": "9e67f921-395d-4ce1-8d8a-1448aa58aa1f",
   "metadata": {},
   "outputs": [],
   "source": [
    "user_input = \"receipt printers.\"\n",
    "\n",
    "embedded_vector = get_embedded_vector(user_input)\n",
    "\n",
    "\n",
    "print(knn_search(embedded_vector, index, 4, 0.3))"
   ]
  },
  {
   "cell_type": "code",
   "execution_count": null,
   "id": "3bde5c60-3fb9-4a68-8941-bdddd270fb27",
   "metadata": {},
   "outputs": [],
   "source": [
    "print(confidence)\n",
    "\n",
    "print(vector_db.iloc[indices[0]]['information_en'])"
   ]
  },
  {
   "cell_type": "code",
   "execution_count": null,
   "id": "71b95f2a-62fb-4f93-9793-0cc657315b42",
   "metadata": {},
   "outputs": [],
   "source": [
    "# 0.3 seems to be a good lowest confidence level, possible lower"
   ]
  },
  {
   "cell_type": "markdown",
   "id": "69756756-372b-4002-a768-a1bc2da81726",
   "metadata": {},
   "source": [
    "## Full loop for testing"
   ]
  },
  {
   "cell_type": "markdown",
   "id": "d8957bbf-18be-483f-a7ed-ace95b70935d",
   "metadata": {},
   "source": [
    "## Summary rewriter"
   ]
  },
  {
   "cell_type": "code",
   "execution_count": null,
   "id": "a96ebbf6-f88f-42a1-a6dc-1d1c9c40c6af",
   "metadata": {},
   "outputs": [],
   "source": [
    "message_history = [\n",
    "    {\"role\": \"user\", \"content\": \"Hi, I'm having trouble logging in.\"},\n",
    "    {\"role\": \"assistant\", \"content\": \"Have you tried resetting your password?\"},\n",
    "    {\"role\": \"user\", \"content\": \"Yes, but I never got the email.\"}\n",
    "]\n",
    "\n",
    "# Flatten them into a string\n",
    "flattened = \"\\n\".join([f\"{m['role']}: {m['content']}\" for m in message_history])\n",
    "\n",
    "print(flattened)"
   ]
  },
  {
   "cell_type": "code",
   "execution_count": null,
   "id": "45ecf347-524f-4502-a2c1-921893be0be8",
   "metadata": {},
   "outputs": [],
   "source": [
    "prompt = \"You are updating a short summary of a customer support conversation.\\nEnsure that you capture:\\n- Main device/product/service\\n- Main problem or request\\n- Key details already provided (OS, model, network, etc.)\\n- Actions already tried\\n\\nUpdate the summary with any new, relevant info from the following (may be blank if summary not yet generated):\\nCurrent summary:\\n{summary}\\n\\nLast {num_turns} turns:\\n{flattened_message_block}\\n\\nReturn only the short, updated summary.\"\n",
    "\n",
    "print(prompt)\n",
    "\n",
    "final_prompt = prompt.format(\n",
    "    summary=\"blah blah summary\",\n",
    "    num_turns=5555,\n",
    "    flattened_message_block=\"user: this adoujguhsdijgpisd, assistant: soidgjosijgposgpojsd\"\n",
    ")\n",
    "\n",
    "print(final_prompt)"
   ]
  },
  {
   "cell_type": "markdown",
   "id": "a6d2ca8c-ae6d-4f1b-b1a7-16e6a7118375",
   "metadata": {},
   "source": [
    "## Semantic Shift"
   ]
  },
  {
   "cell_type": "code",
   "execution_count": 32,
   "id": "802e44c7-73ef-4f2a-bac6-c2f1fdd56af5",
   "metadata": {},
   "outputs": [],
   "source": [
    "conversation_summary = \"Main device/product: Receipt printer Main problem/request: Assistance with setting up a static IP on the receipt printer after initial instructions did not work; user now inquires about changing floorplans on Olivia Key details provided: None Actions tried: Attempted to set static IP via printer's web interface following provided steps, double-checked physical connections, reprinted network configuration page, verified browser connection and login credentials, ensured correct subnet mask and gateway settings, confirmed static IP is outside DHCP range, rebooted printer; checked for IP conflicts using network scanner, restarted router and switch, verified firmware update, tried different browser/device, assigned alternate static IP; issue resolved successfully\"\n",
    "\n",
    "conversation_embedded = get_embedded_vector(conversation_summary)"
   ]
  },
  {
   "cell_type": "code",
   "execution_count": 40,
   "id": "6ff8e9ad-4300-44f7-b945-243dc966617f",
   "metadata": {},
   "outputs": [
    {
     "name": "stdout",
     "output_type": "stream",
     "text": [
      "0.34119383\n"
     ]
    }
   ],
   "source": [
    "user_input = \"how do i change floorplans in olivia\"\n",
    "\n",
    "input_vector = get_embedded_vector(user_input)\n",
    "\n",
    "print(np.dot(conversation_embedded.flatten(), input_vector.flatten()))"
   ]
  },
  {
   "cell_type": "code",
   "execution_count": null,
   "id": "852cdb2f-7e30-43d9-8be1-1bf2736b9d16",
   "metadata": {},
   "outputs": [],
   "source": []
  }
 ],
 "metadata": {
  "kernelspec": {
   "display_name": "Python [conda env:base] *",
   "language": "python",
   "name": "conda-base-py"
  },
  "language_info": {
   "codemirror_mode": {
    "name": "ipython",
    "version": 3
   },
   "file_extension": ".py",
   "mimetype": "text/x-python",
   "name": "python",
   "nbconvert_exporter": "python",
   "pygments_lexer": "ipython3",
   "version": "3.12.7"
  }
 },
 "nbformat": 4,
 "nbformat_minor": 5
}
