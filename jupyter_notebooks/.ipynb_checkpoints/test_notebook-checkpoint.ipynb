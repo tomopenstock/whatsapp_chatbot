{
 "cells": [
  {
   "cell_type": "code",
   "execution_count": 44,
   "id": "0a7b463c-05dc-40c1-a61f-4ee370113370",
   "metadata": {},
   "outputs": [],
   "source": [
    "import numpy as np\n",
    "import openai\n",
    "import pandas as pd\n",
    "import json\n",
    "from google.cloud import secretmanager\n",
    "from google.cloud import storage\n",
    "import faiss"
   ]
  },
  {
   "cell_type": "code",
   "execution_count": 32,
   "id": "e51a9111-295f-4e66-8488-19092c5d36b2",
   "metadata": {},
   "outputs": [],
   "source": [
    "def access_secret(secret_id):\n",
    "    client = secretmanager.SecretManagerServiceClient()\n",
    "    name = f\"projects/1052202528756/secrets/{secret_id}/versions/latest\"\n",
    "    response = client.access_secret_version(request={\"name\": name})\n",
    "    return response.payload.data.decode(\"UTF-8\")"
   ]
  },
  {
   "cell_type": "code",
   "execution_count": 34,
   "id": "5a86cab8-315c-43ae-ac20-82b68112e0f2",
   "metadata": {},
   "outputs": [],
   "source": [
    "openai_client = openai.OpenAI(api_key = access_secret(\"OPENAI_API_KEY\"))"
   ]
  },
  {
   "cell_type": "code",
   "execution_count": 65,
   "id": "3e4166bd-d35e-4ada-8d00-aa67dbf98236",
   "metadata": {},
   "outputs": [],
   "source": [
    "# Create dataframe of information\n",
    "with open(\"/Users/openstockltd/Documents/Chatbot/V2/Preprocessing V2/olivia_information_vectors.json\") as f:\n",
    "    data = json.load(f)\n",
    "\n",
    "hyperparams = data[\"hyperparams\"]\n",
    "\n",
    "embedding_model = hyperparams[\"embedding_model\"]\n",
    "chat_model = hyperparams[\"chat_model\"]"
   ]
  },
  {
   "cell_type": "code",
   "execution_count": 67,
   "id": "e949a411-50ac-44d5-a43d-459c8fac5881",
   "metadata": {},
   "outputs": [
    {
     "data": {
      "text/html": [
       "<div>\n",
       "<style scoped>\n",
       "    .dataframe tbody tr th:only-of-type {\n",
       "        vertical-align: middle;\n",
       "    }\n",
       "\n",
       "    .dataframe tbody tr th {\n",
       "        vertical-align: top;\n",
       "    }\n",
       "\n",
       "    .dataframe thead th {\n",
       "        text-align: right;\n",
       "    }\n",
       "</style>\n",
       "<table border=\"1\" class=\"dataframe\">\n",
       "  <thead>\n",
       "    <tr style=\"text-align: right;\">\n",
       "      <th></th>\n",
       "      <th>id</th>\n",
       "      <th>category</th>\n",
       "      <th>information_en</th>\n",
       "      <th>information_fr</th>\n",
       "      <th>information_it</th>\n",
       "      <th>media</th>\n",
       "      <th>vector_embedding</th>\n",
       "    </tr>\n",
       "  </thead>\n",
       "  <tbody>\n",
       "    <tr>\n",
       "      <th>0</th>\n",
       "      <td>1</td>\n",
       "      <td>printers</td>\n",
       "      <td>How to Set a Static IP on a Receipt Printer:\\n...</td>\n",
       "      <td>Comment configurer une adresse IP statique sur...</td>\n",
       "      <td>Come impostare un IP statico su una stampante ...</td>\n",
       "      <td>None</td>\n",
       "      <td>[0.005239351186901331, -0.014315578155219555, ...</td>\n",
       "    </tr>\n",
       "    <tr>\n",
       "      <th>1</th>\n",
       "      <td>2</td>\n",
       "      <td>pricing</td>\n",
       "      <td>Discount, tax and totals are calculated in the...</td>\n",
       "      <td>Les remises, les taxes et les totaux sont calc...</td>\n",
       "      <td>Sconti, imposte e totali vengono calcolati nel...</td>\n",
       "      <td>None</td>\n",
       "      <td>[-0.03406905382871628, 0.01699058525264263, -0...</td>\n",
       "    </tr>\n",
       "    <tr>\n",
       "      <th>2</th>\n",
       "      <td>3</td>\n",
       "      <td>reports</td>\n",
       "      <td>Reporting Summary\\n\\nEach sale includes:\\nTota...</td>\n",
       "      <td>Résumé du rapport\\n\\nChaque vente comprend :\\n...</td>\n",
       "      <td>Riepilogo report\\n\\nOgni vendita include:\\nTot...</td>\n",
       "      <td>None</td>\n",
       "      <td>[-0.006289031356573105, 0.0101417051628232, -0...</td>\n",
       "    </tr>\n",
       "    <tr>\n",
       "      <th>3</th>\n",
       "      <td>4</td>\n",
       "      <td>printers</td>\n",
       "      <td>Olivia POS supports the following receipt prin...</td>\n",
       "      <td>Olivia POS prend en charge les imprimantes de ...</td>\n",
       "      <td>Olivia POS supporta le seguenti stampanti per ...</td>\n",
       "      <td>None</td>\n",
       "      <td>[-0.0025999024510383606, 0.01753482036292553, ...</td>\n",
       "    </tr>\n",
       "    <tr>\n",
       "      <th>4</th>\n",
       "      <td>5</td>\n",
       "      <td>subscription</td>\n",
       "      <td>To start a subscription with Olivia POS, pleas...</td>\n",
       "      <td>Pour souscrire un abonnement à Olivia POS, veu...</td>\n",
       "      <td>Per attivare un abbonamento a Olivia POS, acce...</td>\n",
       "      <td>None</td>\n",
       "      <td>[-0.03717361018061638, 0.025075510144233704, -...</td>\n",
       "    </tr>\n",
       "    <tr>\n",
       "      <th>5</th>\n",
       "      <td>6</td>\n",
       "      <td>subscription</td>\n",
       "      <td>To manage or cancel your Olivia POS subscripti...</td>\n",
       "      <td>Pour gérer ou résilier votre abonnement Olivia...</td>\n",
       "      <td>Per gestire o cancellare il tuo abbonamento a ...</td>\n",
       "      <td>None</td>\n",
       "      <td>[-0.05112096294760704, 0.023105602711439133, -...</td>\n",
       "    </tr>\n",
       "    <tr>\n",
       "      <th>6</th>\n",
       "      <td>7</td>\n",
       "      <td>floorplan</td>\n",
       "      <td>To change your restaurant floorplans, please s...</td>\n",
       "      <td>Pour modifier les plans de votre restaurant, v...</td>\n",
       "      <td>Per modificare le planimetrie del tuo ristoran...</td>\n",
       "      <td>None</td>\n",
       "      <td>[-0.0219853688031435, -0.010387655347585678, -...</td>\n",
       "    </tr>\n",
       "  </tbody>\n",
       "</table>\n",
       "</div>"
      ],
      "text/plain": [
       "  id      category                                     information_en  \\\n",
       "0  1      printers  How to Set a Static IP on a Receipt Printer:\\n...   \n",
       "1  2       pricing  Discount, tax and totals are calculated in the...   \n",
       "2  3       reports  Reporting Summary\\n\\nEach sale includes:\\nTota...   \n",
       "3  4      printers  Olivia POS supports the following receipt prin...   \n",
       "4  5  subscription  To start a subscription with Olivia POS, pleas...   \n",
       "5  6  subscription  To manage or cancel your Olivia POS subscripti...   \n",
       "6  7     floorplan  To change your restaurant floorplans, please s...   \n",
       "\n",
       "                                      information_fr  \\\n",
       "0  Comment configurer une adresse IP statique sur...   \n",
       "1  Les remises, les taxes et les totaux sont calc...   \n",
       "2  Résumé du rapport\\n\\nChaque vente comprend :\\n...   \n",
       "3  Olivia POS prend en charge les imprimantes de ...   \n",
       "4  Pour souscrire un abonnement à Olivia POS, veu...   \n",
       "5  Pour gérer ou résilier votre abonnement Olivia...   \n",
       "6  Pour modifier les plans de votre restaurant, v...   \n",
       "\n",
       "                                      information_it media  \\\n",
       "0  Come impostare un IP statico su una stampante ...  None   \n",
       "1  Sconti, imposte e totali vengono calcolati nel...  None   \n",
       "2  Riepilogo report\\n\\nOgni vendita include:\\nTot...  None   \n",
       "3  Olivia POS supporta le seguenti stampanti per ...  None   \n",
       "4  Per attivare un abbonamento a Olivia POS, acce...  None   \n",
       "5  Per gestire o cancellare il tuo abbonamento a ...  None   \n",
       "6  Per modificare le planimetrie del tuo ristoran...  None   \n",
       "\n",
       "                                    vector_embedding  \n",
       "0  [0.005239351186901331, -0.014315578155219555, ...  \n",
       "1  [-0.03406905382871628, 0.01699058525264263, -0...  \n",
       "2  [-0.006289031356573105, 0.0101417051628232, -0...  \n",
       "3  [-0.0025999024510383606, 0.01753482036292553, ...  \n",
       "4  [-0.03717361018061638, 0.025075510144233704, -...  \n",
       "5  [-0.05112096294760704, 0.023105602711439133, -...  \n",
       "6  [-0.0219853688031435, -0.010387655347585678, -...  "
      ]
     },
     "execution_count": 67,
     "metadata": {},
     "output_type": "execute_result"
    }
   ],
   "source": [
    "vector_db = pd.DataFrame(data['data'])\n",
    "\n",
    "vector_db"
   ]
  },
  {
   "cell_type": "markdown",
   "id": "0e2a6492-e6a8-46ca-ac3c-8bb3fa1c9b2f",
   "metadata": {},
   "source": [
    "## Embedding and FAISS Vector Search Handling"
   ]
  },
  {
   "cell_type": "code",
   "execution_count": 70,
   "id": "5014b506-71e6-4980-82f2-e3f614d06677",
   "metadata": {},
   "outputs": [],
   "source": [
    "# Create matrix of information vectors\n",
    "embedding_matrix = np.vstack(vector_db['vector_embedding'].values).astype('float32')\n",
    "\n",
    "# Generate FAISS index\n",
    "dim = embedding_matrix.shape[1]\n",
    "index = faiss.IndexFlatIP(dim)\n",
    "index.add(embedding_matrix)"
   ]
  },
  {
   "cell_type": "code",
   "execution_count": 82,
   "id": "9bec5ee1-7c4d-4209-9f2a-9cb6a117c3d4",
   "metadata": {},
   "outputs": [],
   "source": [
    "def get_embedded_vector(text):\n",
    "    '''\n",
    "    Returns an array of the text embedded in vector space by chosen OpenAI model\n",
    "    '''\n",
    "    try:\n",
    "        vector = openai_client.embeddings.create(input=text, model=embedding_model).data[0].embedding\n",
    "        return vector\n",
    "    except Exception as e:\n",
    "        print(f\"Embedding generation failed: {e}\")\n",
    "        raise\n",
    "\n",
    "def get_confidence_and_indices(input_vector, k):\n",
    "    '''\n",
    "    Takes input vector (list).\n",
    "    Finds \n",
    "    '''\n",
    "\n",
    "    input_vector = np.array([input_vector], dtype=np.float32)\n",
    "\n",
    "    # Find the cosine similarity of input with k\n",
    "    cosine_similarities, indices = index.search(input_vector, k)\n",
    "\n",
    "    return cosine_similarities, indices"
   ]
  },
  {
   "cell_type": "markdown",
   "id": "ca73c27f-2e91-4362-86dd-f8f955e1d614",
   "metadata": {},
   "source": [
    "## Single Input"
   ]
  },
  {
   "cell_type": "code",
   "execution_count": 133,
   "id": "9e67f921-395d-4ce1-8d8a-1448aa58aa1f",
   "metadata": {},
   "outputs": [],
   "source": [
    "user_input = \"Come impostare un IP statico su una stampante per ricevute:\\n1. Collegare la stampante alla rete utilizzando un cavo Ethernet.\\n2. Stampare la configurazione di rete tenendo premuto il pulsante Feed mentre si accende la stampante. Rilasciare il pulsante quando inizia la stampa.\\n3. Annotare l'indirizzo IP corrente dalla stampa.\\n4. Aprire un browser e inserire l'indirizzo IP (ad esempio, http://192.168.1.100).\\n5. Accedere all'interfaccia web (il nome utente/password predefiniti sono solitamente admin/admin o epson/epson). Se necessario, è possibile cercare i dettagli di accesso specifici per marca.\\n6. Andare su Impostazioni di rete > TCP/IP.\\n7. Modificare l'impostazione dell'indirizzo IP su Manuale o Statico.\\n8. Immettere l'IP statico desiderato, la subnet mask (ad esempio 255.255.255.0) e il gateway (ad esempio 192.168.1.1; in genere è preferibile utilizzare l'indirizzo IP già assegnato alla stampante).\\n9. Salvare e riavviare la stampante.\\nAssicurarsi che l'IP impostato sia al di fuori dell'intervallo DHCP del router per evitare conflitti.\"\n",
    "\n",
    "confidence, indices = (get_confidence_and_ids(get_embedded_vector(user_input), 5))"
   ]
  },
  {
   "cell_type": "code",
   "execution_count": 134,
   "id": "3bde5c60-3fb9-4a68-8941-bdddd270fb27",
   "metadata": {},
   "outputs": [
    {
     "name": "stdout",
     "output_type": "stream",
     "text": [
      "[[0.8190708  0.40463892 0.17690106 0.16746755 0.16361283]]\n",
      "0    How to Set a Static IP on a Receipt Printer:\\n...\n",
      "3    Olivia POS supports the following receipt prin...\n",
      "4    To start a subscription with Olivia POS, pleas...\n",
      "5    To manage or cancel your Olivia POS subscripti...\n",
      "1    Discount, tax and totals are calculated in the...\n",
      "Name: information_en, dtype: object\n"
     ]
    }
   ],
   "source": [
    "print(confidence)\n",
    "\n",
    "print(vector_db.iloc[indices[0]]['information_en'])"
   ]
  },
  {
   "cell_type": "code",
   "execution_count": null,
   "id": "71b95f2a-62fb-4f93-9793-0cc657315b42",
   "metadata": {},
   "outputs": [],
   "source": [
    "# 0.3 seems to be a good lowest confidence level, possible lower"
   ]
  },
  {
   "cell_type": "markdown",
   "id": "69756756-372b-4002-a768-a1bc2da81726",
   "metadata": {},
   "source": [
    "## Full loop for testing"
   ]
  },
  {
   "cell_type": "markdown",
   "id": "d8957bbf-18be-483f-a7ed-ace95b70935d",
   "metadata": {},
   "source": [
    "## Hybrid Search - Implementing keyword recognition"
   ]
  },
  {
   "cell_type": "code",
   "execution_count": null,
   "id": "a96ebbf6-f88f-42a1-a6dc-1d1c9c40c6af",
   "metadata": {},
   "outputs": [],
   "source": []
  }
 ],
 "metadata": {
  "kernelspec": {
   "display_name": "Python [conda env:base] *",
   "language": "python",
   "name": "conda-base-py"
  },
  "language_info": {
   "codemirror_mode": {
    "name": "ipython",
    "version": 3
   },
   "file_extension": ".py",
   "mimetype": "text/x-python",
   "name": "python",
   "nbconvert_exporter": "python",
   "pygments_lexer": "ipython3",
   "version": "3.12.7"
  }
 },
 "nbformat": 4,
 "nbformat_minor": 5
}
